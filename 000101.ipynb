{
 "cells": [
  {
   "cell_type": "markdown",
   "metadata": {},
   "source": [
    "# Conditional Statements"
   ]
  },
  {
   "cell_type": "markdown",
   "metadata": {},
   "source": [
    "In any proogramming language we have to control the flow of execution of our program, \n",
    "we want to execute some set of statements only if the given condition is satisfied, and a different set of statements when it’s not satisfied. \n"
   ]
  },
  {
   "cell_type": "markdown",
   "metadata": {},
   "source": [
    "we also call it  decision making statements.We use these statements when we want to execute a block of code when the given condition is true or false."
   ]
  },
  {
   "cell_type": "markdown",
   "metadata": {},
   "source": [
    "Here are the conditional statements "
   ]
  },
  {
   "cell_type": "raw",
   "metadata": {},
   "source": [
    " If statements\n",
    " If-else statements\n",
    " Elif statements\n",
    " Nested if and if-else statements\n",
    " Elif ladder"
   ]
  },
  {
   "cell_type": "markdown",
   "metadata": {},
   "source": [
    "### If statement"
   ]
  },
  {
   "cell_type": "markdown",
   "metadata": {},
   "source": [
    "if Statement is used for decision making. It will run the body of code only when IF statement is true.\n"
   ]
  },
  {
   "cell_type": "markdown",
   "metadata": {},
   "source": [
    "i.e if the condition is satisfied then it will excute the statement(s) which is inside the block"
   ]
  },
  {
   "cell_type": "raw",
   "metadata": {},
   "source": [
    "The syntax of the if statement is:\n",
    "\n",
    "if condition:\n",
    "   statement(s)"
   ]
  },
  {
   "cell_type": "code",
   "execution_count": 53,
   "metadata": {},
   "outputs": [
    {
     "name": "stdout",
     "output_type": "stream",
     "text": [
      " I have sufficient phone balance.Recharge not needed \n",
      "This print statement belongs to the phone balance condition will be executed if it is satisfied \n",
      "This statement will always be executed.This statement doesn't belongs to the 'if' condition\n"
     ]
    }
   ],
   "source": [
    "phone_balance = 500\n",
    "\n",
    "if phone_balance > 100:\n",
    "     print(\" I have sufficient phone balance.Recharge not needed \")\n",
    "     print(\"This print statement belongs to the phone balance condition will be executed if it is satisfied \")   \n",
    "                                                # The symbol colon after the condition signifies the end of it \n",
    "                                                # The colon (:) is significant and required.\n",
    "                                                # It separates the header of the compound statement from the body.\n",
    "                                                # The line after the colon must be indented. \n",
    "                                                # It is standard in Python to use four spaces for indenting.\n",
    "                                                # All lines indented the same amount after the colon will be executed whenever the BOOLEAN_EXPRESSION is true.\n",
    "                                                #  Python follows indentation where it signifies the statements \n",
    "                                                #  which belongs to the condition    \n",
    "print(\"This statement will always be executed.This statement doesn't belongs to the 'if' condition\")"
   ]
  },
  {
   "cell_type": "markdown",
   "metadata": {},
   "source": [
    "### If-else statement"
   ]
  },
  {
   "cell_type": "markdown",
   "metadata": {},
   "source": [
    "If the 'if' condition is not satisfied or false , "
   ]
  },
  {
   "cell_type": "markdown",
   "metadata": {},
   "source": [
    " then we will execute the next only condition i.e else (If our logic has only two outcomes like Either this or that.Incase if our logic has possibility of more than two outcomes then we will go with some intermediate condtions like 'Elif'  "
   ]
  },
  {
   "cell_type": "raw",
   "metadata": {},
   "source": [
    "if condition:          # Incase of boolean outcomes i.e if one conditonal statement fails then we will move on to the \n",
    "    statement(s)\n",
    "else:                   # eventual condition called as 'else'\n",
    "    statement(s)"
   ]
  },
  {
   "cell_type": "code",
   "execution_count": 55,
   "metadata": {},
   "outputs": [
    {
     "name": "stdout",
     "output_type": "stream",
     "text": [
      "I dont have sufficient phone balance.I need to recharge my phone now\n",
      "These statements will be executed only if the above 'if' condition fails\n",
      "This statement will always be executed.This statement doesn't belongs to the either 'if' or 'else' condition\n"
     ]
    }
   ],
   "source": [
    "phone_balance = 50            #here we have the phone balance of just 50\n",
    "\n",
    "if phone_balance > 100:\n",
    "    print(\" I have sufficient phone balance \")\n",
    "    print(\"'This print statement belongs to the phone balance condition will be executed if it is satisfied' \")\n",
    "else:\n",
    "    print(\"I dont have sufficient phone balance.I need to recharge my phone now\")\n",
    "    print(\"These statements will be executed only if the above 'if' condition fails\")\n",
    "    \n",
    "                                                \n",
    "print(\"This statement will always be executed.This statement doesn't belongs to the either 'if' or 'else' condition\")"
   ]
  },
  {
   "cell_type": "markdown",
   "metadata": {},
   "source": [
    "### Elif statements"
   ]
  },
  {
   "cell_type": "markdown",
   "metadata": {},
   "source": [
    "Elif statement is used to check multiple conditions only if the given if condition false. "
   ]
  },
  {
   "cell_type": "markdown",
   "metadata": {},
   "source": [
    "It's similar to an if-else statement and the only difference is that in else we will not check the condition but in elif we will do check the condition"
   ]
  },
  {
   "cell_type": "markdown",
   "metadata": {},
   "source": [
    "elif statements can be multiple we will call them as elif ladder statements"
   ]
  },
  {
   "cell_type": "raw",
   "metadata": {},
   "source": [
    "if condition: \n",
    "    statement(s)\n",
    "elif condition:   Elif condition signifies that this condition will be executed only if previous conditions were failed\n",
    "    statement(s)\n",
    "else:\n",
    "    statement(s)"
   ]
  },
  {
   "cell_type": "code",
   "execution_count": 56,
   "metadata": {},
   "outputs": [
    {
     "name": "stdout",
     "output_type": "stream",
     "text": [
      "I will recharge soon\n",
      "This condition will be executed if the above 'if' condition fails.Even if this condition fails then eventually 'else' will be executed\n",
      "This statements will always be executed.This statement doesn't belongs to the either 'if' or 'else' condition\n"
     ]
    }
   ],
   "source": [
    "phone_balance = 100\n",
    "\n",
    "if phone_balance < 100:\n",
    "    print(\" I have sufficient phone balance \")\n",
    "    print(\"'This print statement belongs to the phone balance condition will be executed if it is satisfied' \")\n",
    "elif phone_balance == 100:\n",
    "    print(\"I will recharge soon\")\n",
    "    print(\"This condition will be executed if the above 'if' condition fails.Even if this condition fails then eventually 'else' will be executed\" )\n",
    "else:\n",
    "    print(\"I dont have sufficient phone balance. i have to recharge my phone now\")\n",
    "    print(\"These statements will be executed only if the above 'if' condition fails\")\n",
    "    \n",
    "                                                \n",
    "print(\"This statements will always be executed.This statement doesn't belongs to the either 'if' or 'else' condition\")"
   ]
  },
  {
   "cell_type": "markdown",
   "metadata": {},
   "source": [
    "### Nested if and if-else statements"
   ]
  },
  {
   "cell_type": "markdown",
   "metadata": {},
   "source": [
    "Nested if-else statements mean that an if statement or if-else statement is present inside another if or if-else block."
   ]
  },
  {
   "cell_type": "markdown",
   "metadata": {},
   "source": [
    "An if statement present inside another if statement which is present inside another if statements and so on."
   ]
  },
  {
   "cell_type": "raw",
   "metadata": {},
   "source": [
    "if condition1:\n",
    "    statement(s)\n",
    "    if condition2:\n",
    "        statement(s)\n",
    "        if condition3:\n",
    "            statement(s)\n",
    "               .....\n",
    "                  ....."
   ]
  },
  {
   "cell_type": "code",
   "execution_count": 62,
   "metadata": {},
   "outputs": [
    {
     "name": "stdout",
     "output_type": "stream",
     "text": [
      "our number is a positive number and\n",
      "our number ranges between 10 and 100 and \n",
      " our number is above 90 \n"
     ]
    }
   ],
   "source": [
    "number = 98\n",
    "if number > 0:\n",
    "    print('our number is a positive number and')\n",
    "    if 10 < number < 100:\n",
    "        print(\"our number ranges between 10 and 100 and \")\n",
    "        if number > 90:\n",
    "            print(\" our number is above 90 \")"
   ]
  },
  {
   "cell_type": "markdown",
   "metadata": {},
   "source": [
    "### Multiple conditions in if-elif statements"
   ]
  },
  {
   "cell_type": "code",
   "execution_count": 63,
   "metadata": {},
   "outputs": [
    {
     "name": "stdout",
     "output_type": "stream",
     "text": [
      "Do you want to play this game ? yes\n"
     ]
    }
   ],
   "source": [
    "value = input(\"Do you want to play this game ? \")      "
   ]
  },
  {
   "cell_type": "code",
   "execution_count": 64,
   "metadata": {},
   "outputs": [
    {
     "name": "stdout",
     "output_type": "stream",
     "text": [
      " I am ready \n"
     ]
    }
   ],
   "source": [
    "if value =='yes' or value == 'y' or value == 'YES' or value=='Y':\n",
    "    print(\" I am ready \")\n",
    "elif value == 'no' or value == 'NO'or value == 'N' or value == 'n':\n",
    "    print(\" No I am afraid \")\n",
    "else:\n",
    "    print(\"Invalid input\")"
   ]
  },
  {
   "cell_type": "markdown",
   "metadata": {},
   "source": [
    "### if-elif-else statements in one line"
   ]
  },
  {
   "cell_type": "code",
   "execution_count": 65,
   "metadata": {},
   "outputs": [
    {
     "name": "stdout",
     "output_type": "stream",
     "text": [
      "Detective name: sherlock\n"
     ]
    }
   ],
   "source": [
    "detective=input('Detective name: ')"
   ]
  },
  {
   "cell_type": "code",
   "execution_count": 66,
   "metadata": {},
   "outputs": [
    {
     "name": "stdout",
     "output_type": "stream",
     "text": [
      "consulting detective\n",
      "fictional character\n",
      "canon doyal's fictional creation\n"
     ]
    }
   ],
   "source": [
    "if detective=='sherlock': print('consulting detective'); print('fictional character');print(\"canon doyal's fictional creation\");\n",
    "elif detective=='hercule poirot':print('fictional character');print(\"Agatha cristhe's fictional creation \")  \n",
    "else: print(\"Irrelevant data\");print(\"change the inputand try again\")   "
   ]
  },
  {
   "cell_type": "code",
   "execution_count": 3,
   "metadata": {},
   "outputs": [
    {
     "name": "stdout",
     "output_type": "stream",
     "text": [
      "a >= 15\n"
     ]
    }
   ],
   "source": [
    "b = 18\n",
    "res = 'a < 15' if b < 15 else 'a >= 15'\n",
    "print(res)"
   ]
  },
  {
   "cell_type": "code",
   "execution_count": 4,
   "metadata": {},
   "outputs": [],
   "source": [
    "def ask_guvi():        # you can refer functions section in the course if you want to get the minimal understanding about it \n",
    "    print('python course')\n",
    "    \n",
    "def ask_zenclass():\n",
    "    print('deep learning')"
   ]
  },
  {
   "cell_type": "code",
   "execution_count": 6,
   "metadata": {},
   "outputs": [
    {
     "name": "stdout",
     "output_type": "stream",
     "text": [
      "python course\n"
     ]
    }
   ],
   "source": [
    "b = 10                  \n",
    "ask_guvi() if b < 15 else ask_zenclass()"
   ]
  },
  {
   "cell_type": "markdown",
   "metadata": {},
   "source": [
    "# Loops "
   ]
  },
  {
   "cell_type": "markdown",
   "metadata": {},
   "source": [
    "programming can automate the the tasks which happen repetetively. For this sort of tasks we will do Iteration which means"
   ]
  },
  {
   "cell_type": "markdown",
   "metadata": {},
   "source": [
    "we will do the same work over a block of code again and again, we will implement iteration with loops"
   ]
  },
  {
   "cell_type": "raw",
   "metadata": {},
   "source": [
    "There are two types of iteration \n",
    "    Indefinite itertion\n",
    "    Defintite iteration"
   ]
  },
  {
   "cell_type": "markdown",
   "metadata": {},
   "source": [
    "Indefinite iteration :-  The number of times the loop is executed isn’t specified explicitly in advance. Rather, the designated block is executed repeatedly as long as some condition is met."
   ]
  },
  {
   "cell_type": "markdown",
   "metadata": {},
   "source": [
    "Definite iteration :- definite iteration, the number of times the designated block will be executed is specified explicitly at the time the loop starts."
   ]
  },
  {
   "cell_type": "markdown",
   "metadata": {},
   "source": [
    "### While loop is an idefinite loop"
   ]
  },
  {
   "cell_type": "markdown",
   "metadata": {},
   "source": [
    "While Loop is used to repeat a block of code. Instead of running the code block once, It executes the code block multiple times until a certain condition is met."
   ]
  },
  {
   "cell_type": "raw",
   "metadata": {},
   "source": [
    "while expression:\n",
    "    Body of while"
   ]
  },
  {
   "cell_type": "code",
   "execution_count": 67,
   "metadata": {},
   "outputs": [
    {
     "name": "stdout",
     "output_type": "stream",
     "text": [
      "250\n",
      "400\n",
      "550\n"
     ]
    }
   ],
   "source": [
    "phone_bal = 100\n",
    "while phone_bal <= 500:                 \n",
    "    phone_bal += 150\n",
    "    print(phone_bal)"
   ]
  },
  {
   "cell_type": "markdown",
   "metadata": {},
   "source": [
    "While loop over a List"
   ]
  },
  {
   "cell_type": "code",
   "execution_count": 68,
   "metadata": {},
   "outputs": [],
   "source": [
    "mylist=['my', 'name', 'is', 'sherlock', 'holmes']"
   ]
  },
  {
   "cell_type": "code",
   "execution_count": 69,
   "metadata": {},
   "outputs": [
    {
     "name": "stdout",
     "output_type": "stream",
     "text": [
      "my\n",
      "name\n",
      "is\n",
      "sherlock\n",
      "holmes\n"
     ]
    }
   ],
   "source": [
    "while mylist:\n",
    "    print(mylist.pop(0))"
   ]
  },
  {
   "cell_type": "code",
   "execution_count": 70,
   "metadata": {},
   "outputs": [
    {
     "data": {
      "text/plain": [
       "[]"
      ]
     },
     "execution_count": 70,
     "metadata": {},
     "output_type": "execute_result"
    }
   ],
   "source": [
    "mylist  # now it is an empty list "
   ]
  },
  {
   "cell_type": "markdown",
   "metadata": {},
   "source": [
    "### For loop"
   ]
  },
  {
   "cell_type": "markdown",
   "metadata": {},
   "source": [
    "Just like while loop, \"For Loop\" is also used to repeat the program.\n",
    "\n",
    "But unlike while loop which depends on condition true or false. \"For Loop\" depends on the elements it has to iterate."
   ]
  },
  {
   "cell_type": "markdown",
   "metadata": {},
   "source": [
    "This type of loop iterates over a collection of objects, rather than specifying numeric values or conditions:"
   ]
  },
  {
   "cell_type": "raw",
   "metadata": {},
   "source": [
    "for i in collection:\n",
    "    body to execute "
   ]
  },
  {
   "cell_type": "code",
   "execution_count": 81,
   "metadata": {},
   "outputs": [],
   "source": [
    "for k in mylist:\n",
    "    print(k)    "
   ]
  },
  {
   "cell_type": "markdown",
   "metadata": {},
   "source": [
    "### Loop control statements"
   ]
  },
  {
   "cell_type": "markdown",
   "metadata": {},
   "source": [
    "Break Statement :- Terminates the loop statement and transfers execution to the statement immediately following the loop."
   ]
  },
  {
   "cell_type": "code",
   "execution_count": 72,
   "metadata": {},
   "outputs": [
    {
     "name": "stdout",
     "output_type": "stream",
     "text": [
      "I dont have enough balance \n",
      "I dont have enough balance \n",
      "I have enough balance 400\n"
     ]
    }
   ],
   "source": [
    "phone_bal = 100\n",
    "while phone_bal < 500:                 \n",
    "    phone_bal += 100\n",
    "    if phone_bal==400:    #we are breaking the loop once we got sufficient phone balance\n",
    "        break\n",
    "    print('I dont have enough balance ')   \n",
    "print('I have enough balance',phone_bal)"
   ]
  },
  {
   "cell_type": "markdown",
   "metadata": {},
   "source": [
    "Continue Statement :-Causes the loop to skip the remainder of its body and immediately retest its condition prior to reiterating."
   ]
  },
  {
   "cell_type": "code",
   "execution_count": 73,
   "metadata": {},
   "outputs": [
    {
     "name": "stdout",
     "output_type": "stream",
     "text": [
      "s\n",
      "h\n",
      "e\n",
      "l\n",
      "o\n",
      "c\n",
      "k\n",
      "The end\n"
     ]
    }
   ],
   "source": [
    "for val in \"sherlock\":\n",
    "    if val == \"r\":\n",
    "        continue # This statement disrupts the loop but it doesn't breaks the condition , starts the loop again \n",
    "    print(val)\n",
    "print(\"The end\")"
   ]
  },
  {
   "cell_type": "markdown",
   "metadata": {},
   "source": [
    "The difference in using the continue statement rather than a break statement is that our code will continue despite the disruption"
   ]
  },
  {
   "cell_type": "markdown",
   "metadata": {},
   "source": [
    "Pass Statement :-The pass statement in Python is used when a statement is required syntactically but you do not want any command or code to execute."
   ]
  },
  {
   "cell_type": "markdown",
   "metadata": {},
   "source": [
    "When an external condition is triggered, the pass statement allows you to handle the condition without the loop being impacted in any way; all of the code will continue to be read unless a break or other statement occurs."
   ]
  },
  {
   "cell_type": "code",
   "execution_count": 61,
   "metadata": {},
   "outputs": [
    {
     "name": "stdout",
     "output_type": "stream",
     "text": [
      "s\n",
      "h\n",
      "e\n",
      "r\n",
      "l\n",
      "o\n",
      "c\n",
      "k\n",
      "The end\n"
     ]
    }
   ],
   "source": [
    "for val in \"sherlock\":\n",
    "    if val == \"r\":\n",
    "        pass\n",
    "    print(val)\n",
    "print(\"The end\")"
   ]
  },
  {
   "cell_type": "code",
   "execution_count": null,
   "metadata": {},
   "outputs": [],
   "source": []
  },
  {
   "cell_type": "code",
   "execution_count": null,
   "metadata": {},
   "outputs": [],
   "source": []
  },
  {
   "cell_type": "code",
   "execution_count": null,
   "metadata": {},
   "outputs": [],
   "source": []
  }
 ],
 "metadata": {
  "kernelspec": {
   "display_name": "Python 3",
   "language": "python",
   "name": "python3"
  },
  "language_info": {
   "codemirror_mode": {
    "name": "ipython",
    "version": 3
   },
   "file_extension": ".py",
   "mimetype": "text/x-python",
   "name": "python",
   "nbconvert_exporter": "python",
   "pygments_lexer": "ipython3",
   "version": "3.7.4"
  }
 },
 "nbformat": 4,
 "nbformat_minor": 2
}
